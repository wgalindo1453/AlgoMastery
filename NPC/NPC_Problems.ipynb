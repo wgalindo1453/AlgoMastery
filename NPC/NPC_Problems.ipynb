{
  "cells": [
    {
      "cell_type": "markdown",
      "metadata": {
        "id": "view-in-github",
        "colab_type": "text"
      },
      "source": [
        "<a href=\"https://colab.research.google.com/github/wgalindo1453/AlgoMastery/blob/main/NPC/NPC_Problems.ipynb\" target=\"_parent\"><img src=\"https://colab.research.google.com/assets/colab-badge.svg\" alt=\"Open In Colab\"/></a>"
      ]
    },
    {
      "cell_type": "markdown",
      "metadata": {
        "id": "fDyIw_ohXTDD"
      },
      "source": [
        "# NPC Problems"
      ]
    },
    {
      "cell_type": "markdown",
      "metadata": {
        "id": "dylcbFHrXTDG"
      },
      "source": [
        "## TRAVELING SALESMAN PROBLEM (TSP)\n",
        "TSP: Given a list of cities and the distances between each pair of cities, find the shortest possible route that\n",
        "visits each city exactly once and returns to the origin city.\n",
        "TSP is known to be NP-Complete. However, a variant of it, where the distances between cities satisfy the\n",
        "triangle inequality (the direct distance between two cities is no greater than the distance via an intermediate\n",
        "city), can be solved approximately using a Greedy approach.\n",
        "... [continue with rest of problem description]"
      ]
    },
    {
      "cell_type": "markdown",
      "source": [
        "# <font color='red'>Greedy Algorithm:</font>\n",
        "A. Nearest Neighbor (NN) Algorithm:\n",
        "Start from a random city. At each step, visit the nearest city that hasn't been visited yet. Once all cities have\n",
        "been visited, return to the starting city. This gives a valid, but not necessarily optimal, TSP tour.\n",
        "B. 2-approximation Algorithm:\n",
        "This algorithm uses the concept of Minimum Spanning Tree (MST). We first construct an MST, then\n",
        "perform a pre-order traversal of the MST, and finally, return to the starting city. This will give us a tour which\n",
        "is not more than twice the optimal solution.\n",
        "Time Complexity of these algorithms is O(n^2), where n is the number of cities.\n",
        "\n",
        "## <font color='blue'>Critique:</font>\n",
        "Strengths:\n",
        "The algorithms are simple to understand and implement. They also run quite fast.\n",
        "## <font color='blue'>Weakness:</font>\n",
        "The solutions these algorithms provide are not necessarily optimal. The quality of the solution depends on the\n",
        "starting city in the NN algorithm. The 2-approximation Algorithm provides a bound of twice the optimal\n",
        "solution, which might still be far from optimal in the worst case.\n",
        "Suitability of other approaches:\n",
        "Divide-and-Conquer is not suitable for TSP because the problem doesn't have an obvious way of breaking it\n",
        "down into smaller independent subproblems. Dynamic programming can be used to solve TSP exactly, but it\n",
        "has a high time complexity of O(n^2 * 2^n).\n",
        "Graph traversal, shortest path, and max flow algorithms are not directly applicable to TSP, because TSP is\n",
        "about visiting all vertices exactly once (which is more complex than simply finding a path or flow), and because\n",
        "it includes a return to the starting vertex.\n",
        "So, in this case, the greedy approach seems reasonable, even though it doesn't always produce the optimal\n",
        "solution. It's a good choice when you need a fast, easy-to-implement algorithm and when an approximate\n",
        "solution is acceptable."
      ],
      "metadata": {
        "id": "zK_uyYRjX01q"
      }
    },
    {
      "cell_type": "markdown",
      "metadata": {
        "id": "WcI3HS_5XTDI"
      },
      "source": [
        "## 3-CNF-SAT\n",
        "3-CNF-SAT: Given a Boolean formula φ in 3-CNF form (a conjunction of clauses, where each clause is\n",
        "a disjunction of exactly three literals), the problem is to determine if there is a truth assignment to the\n",
        "variables of φ that makes φ true.\n",
        "\n",
        "This problem is NP-Complete. For the purpose of this discussion, let's consider a variant of the\n",
        "problem, called 2-CNF-SAT, where each clause is a disjunction of exactly two literals. This problem\n",
        "can be solved in polynomial time.\n",
        "\n",
        "## Linear-Time Algorithm for 2-CNF-SAT:\n",
        "The idea is to convert the 2-CNF formula into an implication graph, then use strongly connected\n",
        "component (SCC) decomposition to determine satisfiability.\n",
        "A. Convert 2-CNF formula to an implication graph:\n",
        "Each clause (A or B) in 2-CNF can be written as two implications (!A implies B) and (!B implies A).\n",
        "Create a directed graph where each node represents a literal and each implication forms an edge.\n",
        "B. Strongly Connected Components (SCCs) and Satisfiability:\n",
        "Find the SCCs in the graph using Tarjan’s SCC algorithm or Kosaraju's algorithm. If a variable and its\n",
        "negation belong to the same SCC, then the formula is unsatisfiable. If they don't, then the formula is\n",
        "satisfiable.\n",
        "Time Complexity of this algorithm is O(n+m), where n is the number of variables and m is the number\n",
        "of clauses.\n",
        "## <font color='blue'>Critique:</font>\n",
        "Strengths:\n",
        "The algorithm effectively uses graph theory to solve a logical problem. It's also quite efficient, with a\n",
        "linear time complexity.\n",
        "Weaknesses:\n",
        "The algorithm is specifically designed for 2-CNF formulas. It won't work for 3-CNF or more complex\n",
        "forms.\n",
        "Suitability of other approaches:\n",
        "Divide-and-Conquer, dynamic programming, greedy, and most other general-purpose algorithm\n",
        "techniques don't directly apply to the SAT problem. This problem requires a more specialized\n",
        "approach due to its logical nature.\n",
        "Overall, this algorithm is a good choice for solving the 2-CNF-SAT problem because it cleverly\n",
        "transforms the logical problem into a graph problem, which can be solved efficiently using SCC\n",
        "decomposition."
      ]
    },
    {
      "cell_type": "markdown",
      "metadata": {
        "id": "_nRp7C-9XTDJ"
      },
      "source": [
        "# <font color='red'>VERTEX COVER:</font>\n",
        "VERTEX-COVER: Given an undirected graph G = (V, E) and an integer k, the problem is to determine if\n",
        "there exists a vertex cover of size at most k. A vertex cover is a subset of the vertices C such that for every\n",
        "edge {u, v} ∈ E, either u ∈ C or v ∈ C.\n",
        "This problem is NP-Complete. For the sake of this discussion, let's consider a variant of the problem where\n",
        "the graph is a tree. This problem can be solved in polynomial time.\n",
        "Dynamic Programming Algorithm for Vertex Cover on Trees:\n",
        "The idea is to compute, for each node in the tree, the size of the smallest vertex cover that includes this node\n",
        "and the size of the smallest vertex cover that does not include this node.\n",
        "## A. Bottom-up Computation:\n",
        "Start from the leaves of the tree and move up to the root. For each node, compute two values:\n",
        "The size of the smallest vertex cover that includes this node. This is one plus the sum of the sizes of the\n",
        "smallest vertex covers that do not include its children.\n",
        "The size of the smallest vertex cover that does not include this node. This is the sum of the sizes of the\n",
        "smallest vertex covers that include its children.\n",
        "## B. Solution Retrieval:\n",
        "The size of the smallest vertex cover of the tree is the minimum of the two values computed for the root. To\n",
        "retrieve the actual vertex cover, you can backtrack from the root to the leaves, choosing for each node\n",
        "whether to include it in the cover or not based on the computations performed in the previous step.\n",
        "The time complexity of this algorithm is O(n), where n is the number of vertices in the tree.\n",
        "## <font color='blue'>Critique:</font>\n",
        "## Strengths:\n",
        "This algorithm is efficient and exact. It leverages the tree structure of the graph to simplify the problem and\n",
        "uses dynamic programming to avoid redundant computations.\n",
        "## Weaknesses:\n",
        "The algorithm is specifically designed for trees. It won't work for more general graphs.\n",
        "Suitability of other approaches:\n",
        "Greedy algorithms and divide-and-conquer approaches do not generally provide optimal solutions for the\n",
        "Vertex Cover problem. A brute force approach would involve checking all subsets of vertices, which is not\n",
        "feasible for large graphs.\n",
        "Overall, this dynamic programming approach is a good choice for solving the Vertex Cover problem on\n",
        "trees. It exploits the properties of trees to efficiently compute the smallest vertex cover."
      ]
    }
  ],
  "metadata": {
    "kernelspec": {
      "display_name": "Python 3",
      "language": "python",
      "name": "python3"
    },
    "language_info": {
      "codemirror_mode": {
        "name": "ipython",
        "version": 3
      },
      "file_extension": ".py",
      "mimetype": "text/x-python",
      "name": "python",
      "nbconvert_exporter": "python",
      "pygments_lexer": "ipython3",
      "version": "3.8.5"
    },
    "colab": {
      "provenance": [],
      "include_colab_link": true
    }
  },
  "nbformat": 4,
  "nbformat_minor": 0
}