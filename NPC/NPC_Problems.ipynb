{
 "cells": [
  {
   "cell_type": "markdown",
   "metadata": {},
   "source": [
    "# NPC Problems"
   ]
  },
  {
   "cell_type": "markdown",
   "metadata": {},
   "source": [
    "## TRAVELING SALESMAN PROBLEM (TSP)\n",
    "TSP: Given a list of cities and the distances between each pair of cities, find the shortest possible route that\n",
    "visits each city exactly once and returns to the origin city.\n",
    "TSP is known to be NP-Complete. However, a variant of it, where the distances between cities satisfy the\n",
    "triangle inequality (the direct distance between two cities is no greater than the distance via an intermediate\n",
    "city), can be solved approximately using a Greedy approach.\n",
    "... [continue with rest of problem description]"
   ]
  },
  {
   "cell_type": "markdown",
   "metadata": {},
   "source": [
    "## 3-CNF-SAT\n",
    "3-CNF-SAT: Given a Boolean formula φ in 3-CNF form (a conjunction of clauses, where each clause is\n",
    "a disjunction of exactly three literals), the problem is to determine if there is a truth assignment to the\n",
    "variables of φ that makes φ true.\n",
    "... [continue with rest of problem description]"
   ]
  },
  {
   "cell_type": "markdown",
   "metadata": {},
   "source": [
    "## VERTEX-COVER\n",
    "VERTEX-COVER: Given an undirected graph G = (V, E) and an integer k, the problem is to determine if\n",
    "there exists a vertex cover of size at most k. A vertex cover is a subset of the vertices C such that for every\n",
    "edge {u, v} ∈ E, either u ∈ C or v ∈ C.\n",
    "... [continue with rest of problem description]"
   ]
  }
 ],
 "metadata": {
  "kernelspec": {
   "display_name": "Python 3",
   "language": "python",
   "name": "python3"
  },
  "language_info": {
   "codemirror_mode": {
    "name": "ipython",
    "version": 3
   },
   "file_extension": ".py",
   "mimetype": "text/x-python",
   "name": "python",
   "nbconvert_exporter": "python",
   "pygments_lexer": "ipython3",
   "version": "3.8.5"
  }
 },
 "nbformat": 4,
 "nbformat_minor": 4
}

